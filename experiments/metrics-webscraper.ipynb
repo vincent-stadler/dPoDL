{
 "cells": [
  {
   "cell_type": "code",
   "execution_count": 62,
   "id": "ee47bc82-f297-4c8e-b5e1-d48e5959c390",
   "metadata": {},
   "outputs": [],
   "source": [
    "import requests\n",
    "from bs4 import BeautifulSoup as bs\n",
    "import pandas as pd\n",
    "from selenium import webdriver\n",
    "from selenium.webdriver.common.by import By\n",
    "from selenium.webdriver.chrome.service import Service\n",
    "from selenium.webdriver.chrome.options import Option\n",
    "import re\n",
    "import pandas as pd"
   ]
  },
  {
   "cell_type": "code",
   "execution_count": 49,
   "id": "5b2d4ce3-d1e7-459e-b86c-999b47acfe7c",
   "metadata": {},
   "outputs": [],
   "source": [
    "chrome_options = Options()\n",
    "chrome_options.add_argument(\"--headless\")\n",
    "driver = webdriver.Chrome(options=chrome_options)"
   ]
  },
  {
   "cell_type": "code",
   "execution_count": 50,
   "id": "9ff325fb-5359-4146-a54c-0a77aa6637cb",
   "metadata": {},
   "outputs": [],
   "source": [
    "url = 'https://www.kaggle.com/code/m1nty03/rice-type-classification' \n",
    "name = url.split(\"www.kaggle.com/code/\")\n",
    "name = name[-1].replace(\"/\", \"--\")\n",
    "driver.get(url)"
   ]
  },
  {
   "cell_type": "code",
   "execution_count": 70,
   "id": "1517f502-a1b7-4fbe-b9b2-d3e5339ad974",
   "metadata": {},
   "outputs": [],
   "source": [
    "iframe = driver.find_element(By.ID, 'rendered-kernel-content')\n",
    "iframe_src = iframe.get_attribute('src')\n",
    "response = requests.get(iframe_src)\n",
    "soup = BeautifulSoup(response.text, 'html.parser')"
   ]
  },
  {
   "cell_type": "code",
   "execution_count": 84,
   "id": "3b806647-4f32-4603-b223-cf8a64c42d6a",
   "metadata": {},
   "outputs": [],
   "source": [
    "pattern1 = r'Epoch\\s*(\\d+)/\\d+.*? - accuracy:\\s*(\\d+\\.\\d+)\\s*- loss:\\s*(\\d+\\.\\d+)'\n",
    "pattern2 = r'Epoch\\s*(\\d+)/\\d+.*? - accuracy:\\s*(\\d+\\.\\d+)\\s*- loss:\\s*(\\d+\\.\\d+)(?:.*? - val_accuracy:\\s*(\\d+\\.\\d+)\\s*- val_loss:\\s*(\\d+\\.\\d+))?'\n",
    "matches = re.findall(pattern2, soup.text, re.DOTALL)"
   ]
  },
  {
   "cell_type": "code",
   "execution_count": 90,
   "id": "3999581f-842a-4491-aeb4-7897b8c75c5b",
   "metadata": {},
   "outputs": [],
   "source": [
    "structured_data = []\n",
    "for match in matches:\n",
    "    epoch = int(match[0])\n",
    "    acc = float(match[1])\n",
    "    loss = float(match[2])\n",
    "    val_acc = float(match[3]) if match[3] else None\n",
    "    val_loss = float(match[4]) if match[4] else None\n",
    "    structured_data.append((epoch, acc, loss, val_acc, val_loss))\n",
    "\n",
    "# Create a DataFrame for better readability\n",
    "df = pd.DataFrame(structured_data, columns=['Epoch', 'Accuracy', 'Loss', 'Val_Accuracy', 'Val_Loss'])\n",
    "df.to_csv(name + \".csv\", index=False)\n"
   ]
  },
  {
   "cell_type": "code",
   "execution_count": 86,
   "id": "b8cfa948-47ed-44a4-9cdf-99d472a61386",
   "metadata": {},
   "outputs": [],
   "source": [
    "driver.quit()"
   ]
  }
 ],
 "metadata": {
  "kernelspec": {
   "display_name": "Python 3 (ipykernel)",
   "language": "python",
   "name": "python3"
  },
  "language_info": {
   "codemirror_mode": {
    "name": "ipython",
    "version": 3
   },
   "file_extension": ".py",
   "mimetype": "text/x-python",
   "name": "python",
   "nbconvert_exporter": "python",
   "pygments_lexer": "ipython3",
   "version": "3.11.5"
  }
 },
 "nbformat": 4,
 "nbformat_minor": 5
}
