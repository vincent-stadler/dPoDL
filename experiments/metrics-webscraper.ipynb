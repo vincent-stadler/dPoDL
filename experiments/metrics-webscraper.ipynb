{
 "cells": [
  {
   "cell_type": "code",
   "execution_count": 74,
   "id": "ee47bc82-f297-4c8e-b5e1-d48e5959c390",
   "metadata": {},
   "outputs": [],
   "source": [
    "import requests\n",
    "from bs4 import BeautifulSoup as bs\n",
    "import pandas as pd\n",
    "from selenium import webdriver\n",
    "from selenium.webdriver.chrome.options import Options\n",
    "from selenium.webdriver.common.by import By\n",
    "from selenium.webdriver.support.ui import WebDriverWait\n",
    "from selenium.webdriver.support import expected_conditions as EC\n",
    "\n",
    "import re\n",
    "import pandas as pd\n",
    "import subprocess\n",
    "import time\n",
    "from tqdm import tqdm"
   ]
  },
  {
   "cell_type": "code",
   "execution_count": 62,
   "id": "5b2d4ce3-d1e7-459e-b86c-999b47acfe7c",
   "metadata": {},
   "outputs": [],
   "source": [
    "chrome_options = Options()\n",
    "chrome_options.add_argument(\"--headless\")\n",
    "driver = webdriver.Chrome(options=chrome_options)"
   ]
  },
  {
   "cell_type": "raw",
   "id": "82f6eb26-82df-434b-91a6-720e714d47be",
   "metadata": {},
   "source": [
    "# save all python notebooks on kaggle\n",
    "with open(\"output-2.txt\", \"w\") as file:\n",
    "    for i in range(21):  # Change range as needed\n",
    "        i += 1\n",
    "        result = subprocess.run(\n",
    "            f\"kaggle kernels list --page-size 50 -v --kernel-type notebook --language python --page {i}\",\n",
    "            shell=True,\n",
    "            stdout=file,\n",
    "            stderr=subprocess.STDOUT\n",
    "        )"
   ]
  },
  {
   "cell_type": "code",
   "execution_count": 76,
   "id": "a132ed8c-8ea8-4c64-bb4f-bdf89722921d",
   "metadata": {},
   "outputs": [
    {
     "name": "stdout",
     "output_type": "stream",
     "text": [
      "https://www.kaggle.com/code/adhamtarek147/cifar-10\n",
      "https://www.kaggle.com/code/matinmahmoudi/from-scratch-linear-regression-using-oop\n",
      "https://www.kaggle.com/code/abhishek0032/data-science-toolkit-codes-skills-to-succeed\n"
     ]
    }
   ],
   "source": [
    "df = pd.read_csv(\"output.txt\")\n",
    "for ref in list(df[\"ref\"])[:3]:\n",
    "    url = \"https://www.kaggle.com/code/\" + ref\n",
    "    print(url)"
   ]
  },
  {
   "cell_type": "code",
   "execution_count": 73,
   "id": "9ff325fb-5359-4146-a54c-0a77aa6637cb",
   "metadata": {},
   "outputs": [],
   "source": [
    "# TEST RUN\n",
    "def extract_metrics(url):\n",
    "    #url = 'https://www.kaggle.com/code/m1nty03/rice-type-classification'\n",
    "    name = url.split(\"www.kaggle.com/code/\")\n",
    "    name = name[-1].replace(\"/\", \"--\")\n",
    "    driver.get(url)\n",
    "    WebDriverWait(driver, 10).until(\n",
    "        EC.presence_of_element_located((By.ID, 'rendered-kernel-content'))\n",
    "    )\n",
    "    \n",
    "    iframe = driver.find_element(By.ID, 'rendered-kernel-content')\n",
    "    iframe_src = iframe.get_attribute('src')\n",
    "    response = requests.get(iframe_src)\n",
    "    soup = bs(response.text, 'html.parser')\n",
    "    \n",
    "    pattern1 = r'Epoch\\s*(\\d+)/\\d+.*? - accuracy:\\s*(\\d+\\.\\d+)\\s*- loss:\\s*(\\d+\\.\\d+)'\n",
    "    pattern2 = r'Epoch\\s*(\\d+)/\\d+.*? - accuracy:\\s*(\\d+\\.\\d+)\\s*- loss:\\s*(\\d+\\.\\d+)(?:.*? - val_accuracy:\\s*(\\d+\\.\\d+)\\s*- val_loss:\\s*(\\d+\\.\\d+))?'\n",
    "    matches = re.findall(pattern2, soup.text, re.DOTALL)\n",
    "    \n",
    "    structured_data = []\n",
    "    for match in matches:\n",
    "        epoch = int(match[0])\n",
    "        acc = float(match[1])\n",
    "        loss = float(match[2])\n",
    "        val_acc = float(match[3]) if match[3] else None\n",
    "        val_loss = float(match[4]) if match[4] else None\n",
    "        structured_data.append((epoch, acc, loss, val_acc, val_loss))\n",
    "    \n",
    "    # Create a DataFrame for better readability\n",
    "    df = pd.DataFrame(structured_data, columns=['Epoch', 'Accuracy', 'Loss', 'Val_Accuracy', 'Val_Loss'])\n",
    "    if len(df) > 0:\n",
    "        print(f\"found {len(df)} metrics for {name}\")\n",
    "        df.to_csv(name + \".csv\", index=False)\n",
    "        return df\n",
    "    else:\n",
    "        return\n",
    "\n",
    "df = extract_metrics(\"https://www.kaggle.com/code/adhamtarek147/cifar-10\")\n"
   ]
  },
  {
   "cell_type": "code",
   "execution_count": null,
   "id": "e8ec5678-7b56-4063-8a9d-e18444cfa6d6",
   "metadata": {},
   "outputs": [
    {
     "name": "stderr",
     "output_type": "stream",
     "text": [
      "  0%|▎                                                                              | 5/1070 [00:19<1:08:02,  3.83s/it]"
     ]
    },
    {
     "name": "stdout",
     "output_type": "stream",
     "text": [
      "found 20 metrics for junaid512--real-vs-fake-img\n"
     ]
    },
    {
     "name": "stderr",
     "output_type": "stream",
     "text": [
      "  1%|▊                                                                             | 12/1070 [00:44<1:02:37,  3.55s/it]"
     ]
    }
   ],
   "source": [
    "for ref in tqdm(list(df[\"ref\"])):\n",
    "    url = \"https://www.kaggle.com/code/\" + ref\n",
    "    #print(f\"processing url {url}\")\n",
    "    extract_metrics(url)"
   ]
  },
  {
   "cell_type": "code",
   "execution_count": 48,
   "id": "b8cfa948-47ed-44a4-9cdf-99d472a61386",
   "metadata": {},
   "outputs": [],
   "source": [
    "driver.quit()"
   ]
  }
 ],
 "metadata": {
  "kernelspec": {
   "display_name": "Python 3 (ipykernel)",
   "language": "python",
   "name": "python3"
  },
  "language_info": {
   "codemirror_mode": {
    "name": "ipython",
    "version": 3
   },
   "file_extension": ".py",
   "mimetype": "text/x-python",
   "name": "python",
   "nbconvert_exporter": "python",
   "pygments_lexer": "ipython3",
   "version": "3.11.5"
  }
 },
 "nbformat": 4,
 "nbformat_minor": 5
}
