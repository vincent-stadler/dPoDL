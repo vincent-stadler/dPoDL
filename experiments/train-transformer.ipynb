{
 "cells": [
  {
   "cell_type": "code",
   "execution_count": 150,
   "id": "f6432846-e261-4dbe-aea1-7c1c09132122",
   "metadata": {},
   "outputs": [
    {
     "name": "stdout",
     "output_type": "stream",
     "text": [
      "number of sequences: 464 mean: 0.7416274629705124 std: 0.5634034379837275\n"
     ]
    }
   ],
   "source": [
    "import pandas as pd\n",
    "import os\n",
    "import numpy as np\n",
    "import itertools\n",
    "import matplotlib.pyplot as plt\n",
    "\n",
    "# Folder containing CSVs with sequences of loss values\n",
    "folder_path = r'C:\\Users\\daV\\Documents\\ZHAW\\HS 2024\\dPoDL\\dPoDL\\experiments\\filtered-search\\cnns\\cifar10\\categorical'\n",
    "\n",
    "sequences = []\n",
    "\n",
    "# Load all CSVs and extract sequences of loss values\n",
    "for filename in [i for i in os.listdir(folder_path) if i.endswith(\".csv\")]:\n",
    "    if filename.endswith(\".csv\"):\n",
    "        file_path = os.path.join(folder_path, filename)\n",
    "        try:\n",
    "            data = pd.read_csv(file_path)\n",
    "            # TWO CONDITIONS\n",
    "            if len(data) >= 10:\n",
    "                if max(data['Loss'].values) < 5:\n",
    "                    sequences.append(data['Loss'].values)\n",
    "        except:\n",
    "            print(filename)\n",
    "\n",
    "flattened = list(itertools.chain(*sequences))\n",
    "mean, std = np.mean(flattened), np.std(flattened)\n",
    "print(\"number of sequences:\", len(sequences), \"mean:\", mean, \"std:\", std)"
   ]
  },
  {
   "cell_type": "code",
   "execution_count": 151,
   "id": "67d1a240-d6f7-4902-ae60-91d0961af5a6",
   "metadata": {},
   "outputs": [
    {
     "data": {
      "image/png": "[encoded data removed]",
      "text/plain": [
       "<Figure size 640x480 with 1 Axes>"
      ]
     },
     "metadata": {},
     "output_type": "display_data"
    }
   ],
   "source": [
    "import matplotlib.pyplot as plt\n",
    "\n",
    "plt.hist(flattened, bins=500, edgecolor='black')  # 'bins' specifies the number of bins\n",
    "\n",
    "plt.xlabel('Value')\n",
    "plt.ylabel('Frequency')\n",
    "plt.title('Histogram of Values')\n",
    "\n",
    "# Show the plot\n",
    "plt.show()"
   ]
  },
  {
   "cell_type": "code",
   "execution_count": 136,
   "id": "1001b942-57cf-4b21-a8c7-1879d837d1a6",
   "metadata": {},
   "outputs": [
    {
     "data": {
      "text/plain": [
       "array([0.00222078, 0.00205884, 0.00137059, 0.00117266, 0.00138408,\n",
       "       0.00126712, 0.00109169, 0.00089825, 0.00082628, 0.00055188])"
      ]
     },
     "execution_count": 136,
     "metadata": {},
     "output_type": "execute_result"
    }
   ],
   "source": [
    "\n",
    "\n",
    "input_window = 10   \n",
    "output_window = 1  \n",
    "X, y, X_sorted, y_sorted = list(), list(), list(), list()\n",
    "\n",
    "for sequence in sequences:\n",
    "    seq_mod_X, seq_mod_y = list(), list()\n",
    "    \n",
    "    for i in range(len(sequence) - input_window - output_window):\n",
    "        sequence_x_temp = sequence[i:i+input_window]\n",
    "        sequence_y_temp = sequence[i+input_window:i+input_window+output_window]\n",
    "        sequence_x_temp = (sequence_x_temp - mean) / std # STANDARDIZATION\n",
    "        sequence_y_temp = (sequence_y_temp - mean) / std # STANDARDIZATION\n",
    "        \n",
    "        X.append(sequence_x_temp)\n",
    "        y.append(sequence_y_temp)\n",
    "        seq_mod_X.append(sequence_x_temp)\n",
    "        seq_mod_y.append(sequence_y_temp)\n",
    "    X_sorted.append(seq_mod_X)\n",
    "    y_sorted.append(seq_mod_y)\n",
    "\n",
    "X_full = np.array(X)\n",
    "y_full = np.array(y)\n",
    "X_full.shape, y_full.shape\n"
   ]
  },
  {
   "cell_type": "code",
   "execution_count": 22,
   "id": "5d03ec98-2d63-4592-8ad7-42b3d2004351",
   "metadata": {},
   "outputs": [],
   "source": [
    "import torch\n",
    "import torch.nn as nn\n",
    "from torch.utils.data import DataLoader, Dataset\n",
    "import torch.optim as optim\n",
    "from sklearn.preprocessing import StandardScaler\n",
    "\n",
    "# Custom Dataset class with scaled data\n",
    "class SequenceDataset(Dataset):\n",
    "    def __init__(self, X, y):\n",
    "        self.X = X\n",
    "        self.y = y\n",
    "    \n",
    "    def __len__(self):\n",
    "        return len(self.X)\n",
    "    \n",
    "    def __getitem__(self, idx):\n",
    "        input_sequence = self.X[idx]\n",
    "        target_value = self.y[idx]\n",
    "        return torch.tensor(input_sequence, dtype=torch.float32).unsqueeze(-1), torch.tensor(target_value, dtype=torch.float32)\n",
    "\n",
    "# Adjusted model definition with Batch Normalization and higher embedding dimension\n",
    "class FloatSequenceTransformer(nn.Module):\n",
    "    def __init__(self, seq_length=10, embedding_dim=128, num_heads=4, num_layers=6, dropout=0.2):\n",
    "        super(FloatSequenceTransformer, self).__init__()\n",
    "        \n",
    "        self.embedding = nn.Linear(1, embedding_dim)\n",
    "        self.batch_norm = nn.BatchNorm1d(seq_length)  # Batch normalization applied after embedding\n",
    "        self.register_buffer(\"positional_encoding\", generate_positional_encoding(seq_length, embedding_dim))\n",
    "        \n",
    "        transformer_layer = nn.TransformerEncoderLayer(d_model=embedding_dim, nhead=num_heads, \n",
    "                                                       batch_first=True, dropout=dropout)\n",
    "        self.transformer = nn.TransformerEncoder(transformer_layer, num_layers=num_layers)\n",
    "        \n",
    "        self.output_layer = nn.Linear(embedding_dim, 1)\n",
    "    \n",
    "    def forward(self, x):\n",
    "        x = self.embedding(x)\n",
    "        x = x + self.positional_encoding\n",
    "\n",
    "        mask = torch.triu(torch.ones(x.size(1), x.size(1)) * float('-inf'), diagonal=1)\n",
    "        x = self.transformer(x, mask=mask)\n",
    "        \n",
    "        x = self.output_layer(x[:, -1, :])\n",
    "        return x\n",
    "\n",
    "# Positional encoding function (defined previously)\n",
    "def generate_positional_encoding(seq_length, embedding_dim):\n",
    "    position = torch.arange(seq_length).unsqueeze(1)\n",
    "    div_term = torch.exp(torch.arange(0, embedding_dim, 2) * -(np.log(10000.0) / embedding_dim))\n",
    "    \n",
    "    pe = torch.zeros(seq_length, embedding_dim)\n",
    "    pe[:, 0::2] = torch.sin(position * div_term)\n",
    "    pe[:, 1::2] = torch.cos(position * div_term)\n",
    "    \n",
    "    return pe\n",
    "\n",
    "# Data Preparation with normalized X\n",
    "train_dataset = SequenceDataset(X, y)\n",
    "train_loader = DataLoader(train_dataset, batch_size=32, shuffle=True)\n",
    "\n",
    "# Model, Loss, and Optimizer\n",
    "model = FloatSequenceTransformer(seq_length=10)\n",
    "criterion = nn.SmoothL1Loss()\n",
    "optimizer = optim.Adam(model.parameters(), lr=0.0005)\n"
   ]
  },
  {
   "cell_type": "code",
   "execution_count": 23,
   "id": "a08867de-80f5-4e76-a435-a90b98586d16",
   "metadata": {},
   "outputs": [
    {
     "name": "stderr",
     "output_type": "stream",
     "text": [
      "  5%|████                                                                              | 1/20 [02:42<51:31, 162.69s/it]"
     ]
    },
    {
     "name": "stdout",
     "output_type": "stream",
     "text": [
      "Epoch [1/20], Train Loss: 0.1335\n"
     ]
    },
    {
     "name": "stderr",
     "output_type": "stream",
     "text": [
      " 10%|████████▏                                                                         | 2/20 [05:31<49:50, 166.13s/it]"
     ]
    },
    {
     "name": "stdout",
     "output_type": "stream",
     "text": [
      "Epoch [2/20], Train Loss: 0.2382\n"
     ]
    },
    {
     "name": "stderr",
     "output_type": "stream",
     "text": [
      " 15%|████████████▎                                                                     | 3/20 [08:18<47:16, 166.84s/it]"
     ]
    },
    {
     "name": "stdout",
     "output_type": "stream",
     "text": [
      "Epoch [3/20], Train Loss: 0.2478\n"
     ]
    },
    {
     "name": "stderr",
     "output_type": "stream",
     "text": [
      " 20%|████████████████▍                                                                 | 4/20 [11:11<45:03, 168.95s/it]"
     ]
    },
    {
     "name": "stdout",
     "output_type": "stream",
     "text": [
      "Epoch [4/20], Train Loss: 0.2478\n"
     ]
    },
    {
     "name": "stderr",
     "output_type": "stream",
     "text": [
      " 25%|████████████████████▌                                                             | 5/20 [14:01<42:19, 169.30s/it]"
     ]
    },
    {
     "name": "stdout",
     "output_type": "stream",
     "text": [
      "Epoch [5/20], Train Loss: 0.2477\n"
     ]
    },
    {
     "name": "stderr",
     "output_type": "stream",
     "text": [
      " 30%|████████████████████████▌                                                         | 6/20 [16:51<39:34, 169.62s/it]"
     ]
    },
    {
     "name": "stdout",
     "output_type": "stream",
     "text": [
      "Epoch [6/20], Train Loss: 0.2474\n"
     ]
    },
    {
     "name": "stderr",
     "output_type": "stream",
     "text": [
      " 35%|████████████████████████████▋                                                     | 7/20 [19:40<36:41, 169.38s/it]"
     ]
    },
    {
     "name": "stdout",
     "output_type": "stream",
     "text": [
      "Epoch [7/20], Train Loss: 0.2475\n"
     ]
    },
    {
     "name": "stderr",
     "output_type": "stream",
     "text": [
      " 40%|████████████████████████████████▊                                                 | 8/20 [22:30<33:54, 169.57s/it]"
     ]
    },
    {
     "name": "stdout",
     "output_type": "stream",
     "text": [
      "Epoch [8/20], Train Loss: 0.2474\n"
     ]
    },
    {
     "name": "stderr",
     "output_type": "stream",
     "text": [
      " 45%|████████████████████████████████████▉                                             | 9/20 [25:17<30:57, 168.86s/it]"
     ]
    },
    {
     "name": "stdout",
     "output_type": "stream",
     "text": [
      "Epoch [9/20], Train Loss: 0.2473\n"
     ]
    },
    {
     "name": "stderr",
     "output_type": "stream",
     "text": [
      " 50%|████████████████████████████████████████▌                                        | 10/20 [28:04<28:03, 168.36s/it]"
     ]
    },
    {
     "name": "stdout",
     "output_type": "stream",
     "text": [
      "Epoch [10/20], Train Loss: 0.2472\n"
     ]
    },
    {
     "name": "stderr",
     "output_type": "stream",
     "text": [
      " 55%|████████████████████████████████████████████▌                                    | 11/20 [30:51<25:11, 167.98s/it]"
     ]
    },
    {
     "name": "stdout",
     "output_type": "stream",
     "text": [
      "Epoch [11/20], Train Loss: 0.2472\n"
     ]
    },
    {
     "name": "stderr",
     "output_type": "stream",
     "text": [
      " 60%|████████████████████████████████████████████████▌                                | 12/20 [33:38<22:20, 167.54s/it]"
     ]
    },
    {
     "name": "stdout",
     "output_type": "stream",
     "text": [
      "Epoch [12/20], Train Loss: 0.2471\n"
     ]
    },
    {
     "name": "stderr",
     "output_type": "stream",
     "text": [
      " 65%|████████████████████████████████████████████████████▋                            | 13/20 [36:26<19:34, 167.85s/it]"
     ]
    },
    {
     "name": "stdout",
     "output_type": "stream",
     "text": [
      "Epoch [13/20], Train Loss: 0.2471\n"
     ]
    },
    {
     "name": "stderr",
     "output_type": "stream",
     "text": [
      " 70%|████████████████████████████████████████████████████████▋                        | 14/20 [39:13<16:44, 167.41s/it]"
     ]
    },
    {
     "name": "stdout",
     "output_type": "stream",
     "text": [
      "Epoch [14/20], Train Loss: 0.2471\n"
     ]
    },
    {
     "name": "stderr",
     "output_type": "stream",
     "text": [
      " 75%|████████████████████████████████████████████████████████████▊                    | 15/20 [42:00<13:56, 167.27s/it]"
     ]
    },
    {
     "name": "stdout",
     "output_type": "stream",
     "text": [
      "Epoch [15/20], Train Loss: 0.2469\n"
     ]
    },
    {
     "name": "stderr",
     "output_type": "stream",
     "text": [
      " 80%|████████████████████████████████████████████████████████████████▊                | 16/20 [44:46<11:08, 167.12s/it]"
     ]
    },
    {
     "name": "stdout",
     "output_type": "stream",
     "text": [
      "Epoch [16/20], Train Loss: 0.2471\n"
     ]
    },
    {
     "name": "stderr",
     "output_type": "stream",
     "text": [
      " 85%|████████████████████████████████████████████████████████████████████▊            | 17/20 [47:33<08:20, 166.98s/it]"
     ]
    },
    {
     "name": "stdout",
     "output_type": "stream",
     "text": [
      "Epoch [17/20], Train Loss: 0.2473\n"
     ]
    },
    {
     "name": "stderr",
     "output_type": "stream",
     "text": [
      " 90%|████████████████████████████████████████████████████████████████████████▉        | 18/20 [50:33<05:41, 170.75s/it]"
     ]
    },
    {
     "name": "stdout",
     "output_type": "stream",
     "text": [
      "Epoch [18/20], Train Loss: 0.2472\n"
     ]
    },
    {
     "name": "stderr",
     "output_type": "stream",
     "text": [
      " 95%|████████████████████████████████████████████████████████████████████████████▉    | 19/20 [53:30<02:52, 172.76s/it]"
     ]
    },
    {
     "name": "stdout",
     "output_type": "stream",
     "text": [
      "Epoch [19/20], Train Loss: 0.2471\n"
     ]
    },
    {
     "name": "stderr",
     "output_type": "stream",
     "text": [
      "100%|█████████████████████████████████████████████████████████████████████████████████| 20/20 [56:24<00:00, 169.23s/it]"
     ]
    },
    {
     "name": "stdout",
     "output_type": "stream",
     "text": [
      "Epoch [20/20], Train Loss: 0.2470\n"
     ]
    },
    {
     "name": "stderr",
     "output_type": "stream",
     "text": [
      "\n"
     ]
    }
   ],
   "source": [
    "from tqdm import tqdm\n",
    "\n",
    "num_epochs = 20\n",
    "\n",
    "# Training Loop\n",
    "for epoch in tqdm(range(num_epochs)):\n",
    "    model.train()\n",
    "    train_loss = 0.0\n",
    "    for inputs, targets in train_loader:\n",
    "        optimizer.zero_grad()\n",
    "        outputs = model(inputs)\n",
    "        loss = criterion(outputs.squeeze(), targets.squeeze())\n",
    "        loss.backward()\n",
    "        optimizer.step()\n",
    "        train_loss += loss.item() * inputs.size(0)\n",
    "    \n",
    "    train_loss /= len(train_loader.dataset)\n",
    "    \n",
    "    print(f\"Epoch [{epoch+1}/{num_epochs}], Train Loss: {train_loss:.4f}\")"
   ]
  },
  {
   "cell_type": "code",
   "execution_count": 105,
   "id": "2d9aa5b5-f240-4f07-97da-7244ff8c48d9",
   "metadata": {},
   "outputs": [
    {
     "data": {
      "text/plain": [
       "array([ 3.26322115e-01,  1.87683206e-01,  1.23105008e-01,  7.44625043e-02,\n",
       "        3.46497438e-02, -2.80318621e-04, -3.34053671e-02, -6.09951656e-02,\n",
       "       -8.89408046e-02, -1.18055676e-01])"
      ]
     },
     "execution_count": 105,
     "metadata": {},
     "output_type": "execute_result"
    }
   ],
   "source": [
    "scaler.transform([input_x])[0]"
   ]
  },
  {
   "cell_type": "code",
   "execution_count": 107,
   "id": "e6a94a18-be27-4a89-967d-d4cc64b99f44",
   "metadata": {},
   "outputs": [
    {
     "name": "stdout",
     "output_type": "stream",
     "text": [
      "[ 3.26322115e-01  1.87683206e-01  1.23105008e-01  7.44625043e-02\n",
      "  3.46497438e-02 -2.80318621e-04 -3.34053671e-02 -6.09951656e-02\n",
      " -8.89408046e-02 -1.18055676e-01]\n"
     ]
    },
    {
     "ename": "TypeError",
     "evalue": "predict_next_value() missing 1 required positional argument: 'sequence'",
     "output_type": "error",
     "traceback": [
      "\u001b[1;31m---------------------------------------------------------------------------\u001b[0m",
      "\u001b[1;31mTypeError\u001b[0m                                 Traceback (most recent call last)",
      "Cell \u001b[1;32mIn[107], line 15\u001b[0m\n\u001b[0;32m     13\u001b[0m     transformed_x \u001b[38;5;241m=\u001b[39m scaler\u001b[38;5;241m.\u001b[39mtransform([input_x])[\u001b[38;5;241m0\u001b[39m]\n\u001b[0;32m     14\u001b[0m     \u001b[38;5;28mprint\u001b[39m(transformed_x)\n\u001b[1;32m---> 15\u001b[0m     y_hat \u001b[38;5;241m=\u001b[39m predict_next_value(model, )\n\u001b[0;32m     16\u001b[0m     \u001b[38;5;28mprint\u001b[39m(y_hat, y_real)\n\u001b[0;32m     17\u001b[0m \u001b[38;5;28;01mbreak\u001b[39;00m\n",
      "\u001b[1;31mTypeError\u001b[0m: predict_next_value() missing 1 required positional argument: 'sequence'"
     ]
    }
   ],
   "source": [
    "# Prediction on New Data\n",
    "def predict_next_value(model, sequence):\n",
    "    model.eval()\n",
    "    with torch.no_grad():\n",
    "        input_sequence = torch.tensor(sequence, dtype=torch.float32).unsqueeze(0).unsqueeze(-1)\n",
    "        prediction = model(input_sequence)\n",
    "        return prediction.item()\n",
    "\n",
    "results = []\n",
    "for sequence_x, sequence_y in zip(X_sorted, y_sorted): \n",
    "    \n",
    "    for input_x, y_real in zip(sequence_x, sequence_y):\n",
    "        transformed_x = scaler.transform([input_x])[0]\n",
    "        print(transformed_x)\n",
    "        y_hat = predict_next_value(model, )\n",
    "        print(y_hat, y_real)\n",
    "    break\n"
   ]
  },
  {
   "cell_type": "code",
   "execution_count": 25,
   "id": "4638769d-95ca-4b47-8eb3-d73c63c14f4e",
   "metadata": {},
   "outputs": [
    {
     "name": "stdout",
     "output_type": "stream",
     "text": [
      "Model saved to trained_model.pth\n"
     ]
    }
   ],
   "source": [
    "model_save_path = \"trained_model.pth\"\n",
    "\n",
    "# Save the model's state dictionary\n",
    "torch.save(model.state_dict(), model_save_path)\n",
    "print(f\"Model saved to {model_save_path}\")"
   ]
  }
 ],
 "metadata": {
  "kernelspec": {
   "display_name": "Python 3 (ipykernel)",
   "language": "python",
   "name": "python3"
  },
  "language_info": {
   "codemirror_mode": {
    "name": "ipython",
    "version": 3
   },
   "file_extension": ".py",
   "mimetype": "text/x-python",
   "name": "python",
   "nbconvert_exporter": "python",
   "pygments_lexer": "ipython3",
   "version": "3.11.5"
  }
 },
 "nbformat": 4,
 "nbformat_minor": 5
}
