{
 "cells": [
  {
   "cell_type": "code",
   "execution_count": 1,
   "id": "e9f6dc69-ba53-40e2-9e29-bd974d08cc98",
   "metadata": {},
   "outputs": [],
   "source": [
    "import numpy as np\n",
    "import matplotlib.pyplot as plt\n",
    "import random\n",
    "import os\n",
    "import pandas as pd"
   ]
  },
  {
   "cell_type": "code",
   "execution_count": null,
   "id": "529e3790-84be-4668-a62d-97aa81468ed5",
   "metadata": {},
   "outputs": [],
   "source": [
    "folder_path = r'C:\\Users\\daV\\Documents\\ZHAW\\HS 2024\\dPoDL\\dPoDL\\experiments\\filtered-search\\cnns\\cifar10\\categorical'\n",
    "sequences = []\n",
    "\n",
    "# Load all CSVs and extract sequences of loss values\n",
    "for filename in [i for i in os.listdir(folder_path) if i.endswith(\".csv\")]:\n",
    "    if filename.endswith(\".csv\"):\n",
    "        file_path = os.path.join(folder_path, filename)\n",
    "        try:\n",
    "            data = pd.read_csv(file_path)\n",
    "            if len(data) >= 3: \n",
    "                values_temp = data['Loss'].values\n",
    "                if max(values_temp) < 2 and min(values_temp) > 0:  # make sure data makes sense\n",
    "                    sequences.append(values_temp)\n",
    "        except Exception as e:\n",
    "            print(e, filename)\n"
   ]
  },
  {
   "cell_type": "code",
   "execution_count": 2,
   "id": "7e54d637-d1d7-428c-b366-b21dad9d0cda",
   "metadata": {
    "scrolled": true
   },
   "outputs": [
    {
     "ename": "NameError",
     "evalue": "name 'sequences' is not defined",
     "output_type": "error",
     "traceback": [
      "\u001b[1;31m---------------------------------------------------------------------------\u001b[0m",
      "\u001b[1;31mNameError\u001b[0m                                 Traceback (most recent call last)",
      "Cell \u001b[1;32mIn[2], line 58\u001b[0m\n\u001b[0;32m     56\u001b[0m \u001b[38;5;66;03m# Example usage:\u001b[39;00m\n\u001b[0;32m     57\u001b[0m random\u001b[38;5;241m.\u001b[39mseed(\u001b[38;5;241m42\u001b[39m)\n\u001b[1;32m---> 58\u001b[0m \u001b[38;5;28;01mfor\u001b[39;00m sequence \u001b[38;5;129;01min\u001b[39;00m random\u001b[38;5;241m.\u001b[39msample(sequences, \u001b[38;5;241m30\u001b[39m):\n\u001b[0;32m     59\u001b[0m     stable_point \u001b[38;5;241m=\u001b[39m find_stabilization_point(sequence)\n\u001b[0;32m     60\u001b[0m     plt\u001b[38;5;241m.\u001b[39mplot(sequence)\n",
      "\u001b[1;31mNameError\u001b[0m: name 'sequences' is not defined"
     ]
    }
   ],
   "source": [
    "def find_stabilization_point(\n",
    "    sequence,\n",
    "    window=5,\n",
    "    slope_threshold=0.005,\n",
    "    curvature_threshold=0.05,\n",
    "    patience=1,\n",
    "    oscillation_tolerance=0.001,\n",
    "    increasing_trend_threshold=0.01,\n",
    "    flat_change_threshold=0.003 \n",
    "):\n",
    "    if len(sequence) < window * 2:\n",
    "        return float(\"inf\")\n",
    "\n",
    "    # Smooth the sequence using a moving average\n",
    "    smoothed_sequence = np.convolve(sequence, np.ones(window) / window, mode='valid')\n",
    "\n",
    "    # Calculate slopes and curvatures\n",
    "    slopes = np.diff(smoothed_sequence) / smoothed_sequence[:-1]\n",
    "    curvatures = np.diff(slopes)\n",
    "\n",
    "    stabilization_count = 0\n",
    "    for i in range(len(slopes) - window):\n",
    "        recent_slopes = slopes[i: i + window]\n",
    "        recent_curvatures = curvatures[i: i + window - 1]\n",
    "\n",
    "        # Stabilization conditions\n",
    "        is_stabilized = (\n",
    "            np.all(np.abs(recent_slopes) < slope_threshold) and\n",
    "            np.all(np.abs(recent_curvatures) < curvature_threshold)\n",
    "        )\n",
    "\n",
    "        # Oscillation detection\n",
    "        recent_values = smoothed_sequence[i: i + window]\n",
    "        oscillation_range = np.ptp(recent_values)\n",
    "        is_oscillating = oscillation_range < oscillation_tolerance\n",
    "\n",
    "        # Increasing trend detection\n",
    "        has_increasing_trend = np.all(recent_slopes > increasing_trend_threshold)\n",
    "\n",
    "        # Flat change detection\n",
    "        flat_change = np.abs(smoothed_sequence[i + window - 1] - smoothed_sequence[i]) < flat_change_threshold\n",
    "\n",
    "        if is_stabilized or is_oscillating or flat_change:\n",
    "            stabilization_count += 1\n",
    "            if stabilization_count >= patience:\n",
    "                return i + window\n",
    "        elif has_increasing_trend:\n",
    "            return i + window\n",
    "        else:\n",
    "            stabilization_count = 0\n",
    "\n",
    "    return float(\"inf\")\n",
    "\n",
    "\n",
    "\n",
    "# Example usage:\n",
    "random.seed(42)\n",
    "for sequence in random.sample(sequences, 30):\n",
    "    stable_point = find_stabilization_point(sequence)\n",
    "    plt.plot(sequence)\n",
    "    if stable_point < len(sequence):\n",
    "        plt.axvline(x=stable_point, color='r', linestyle='--', label='stable_point')\n",
    "        plt.legend()\n",
    "    plt.xlabel(\"Epoch\")\n",
    "    plt.ylabel(\"Loss Value\")\n",
    "    plt.show()\n"
   ]
  },
  {
   "cell_type": "code",
   "execution_count": 4,
   "id": "48a0b6c2-d71f-416b-a2ee-d310d8e55d90",
   "metadata": {},
   "outputs": [
    {
     "data": {
      "image/png": "[encoded data removed]",
      "text/plain": [
       "<Figure size 640x480 with 1 Axes>"
      ]
     },
     "metadata": {},
     "output_type": "display_data"
    }
   ],
   "source": [
    "l = [1.8320951461791992, 1.5955309867858887, 1.5160871744155884, 1.4434579610824585, 1.3930164575576782, 1.341736078262329, 1.3170802593231201, 1.2836885452270508, 1.2565947771072388, 1.2206803560256958, 1.1963614225387573, 1.1637976169586182, 1.1431469917297363, 1.128561019897461, 1.107979655265808, 1.0789450407028198, 1.0755856037139893, 1.0374021530151367, 1.0179601907730103, 1.004872441291809, 0.9774206876754761, 0.9679577350616455, 0.965501606464386, 0.9493136405944824, 0.9299600720405579, 0.9307609796524048, 0.9221622347831726, 0.8950297236442566, 0.8898659348487854, 0.8689619302749634, 0.8687101602554321, 0.868104100227356, 0.8523626327514648, 0.8283312320709229, 0.8572772145271301, 0.8251368403434753, 0.8513991236686707, 0.827847957611084, 0.8201762437820435, 0.803780734539032, 0.8107027411460876, 0.7905672788619995, 0.7888193726539612, 0.7940388321876526, 0.7912541627883911, 0.7740083336830139, 0.7855209112167358, 0.7761955261230469, 0.7635555267333984, 0.7596110105514526, 0.7799981236457825, 0.72994065284729, 0.7605689764022827, 0.7380737066268921, 0.7507709264755249, 0.7341954112052917, 0.745072066783905, 0.7319111824035645, 0.7375096082687378]\n",
    "find_stabilization_point(l)\n",
    "plt.plot(l)\n",
    "plt.show()"
   ]
  },
  {
   "cell_type": "code",
   "execution_count": null,
   "id": "b843763a-b55d-4134-ab84-aec9ebf93870",
   "metadata": {},
   "outputs": [],
   "source": [
    "# OLD APPROACH\n",
    "\n",
    "MIN_DECREASE = -0.001\n",
    "MAX_INCREASE = 0.0005\n",
    "WINDOW = 20\n",
    "SLACK_RATE_DECREASE, SLACK_RATE_INCREASE = 0.3, 0.5\n",
    "SLACK_RATE_DECREASE, SLACK_RATE_INCREASE = SLACK_RATE_DECREASE * WINDOW, SLACK_RATE_INCREASE * WINDOW\n",
    "\n",
    "\n",
    "def find_stabilization_point(sequence):\n",
    "    \"\"\"\n",
    "    Identifies the point at which the sequence stops significantly decreasing.\n",
    "\n",
    "    :param sequence: List of float values (the sequence to analyze)\n",
    "    :return: The index of the first value where the sequence stops significantly decreasing, or None if not found\n",
    "    \"\"\"\n",
    "\n",
    "    if len(sequence) < 2:\n",
    "        return float(\"inf\")  # A sequence with less than 2 values can't have a significant decrease\n",
    "\n",
    "    for i in range(WINDOW, len(sequence)):\n",
    "        s = sequence[i - WINDOW: i]\n",
    "        if any([s[j+1] < 0.25 * s[0] for j in range(len(s) - 1) ]):  # if any of the following values is smaller than 60% of start value, no we declare no point was found\n",
    "            return float(\"inf\")\n",
    "    \n",
    "\n",
    "    changes = []  # List to track the relative changes in values\n",
    "    for i in range(1, len(sequence)):\n",
    "        change = (sequence[i] - sequence[i - 1]) / abs(sequence[i - 1])\n",
    "        changes.append(change)\n",
    "\n",
    "    # Check if consecutive changes are consistently smaller than the threshold\n",
    "    for i in range(WINDOW, len(changes)):\n",
    "        # Consider the last few changes for oscillation detection\n",
    "        # check for increasing behaviour:\n",
    "        s = sequence[i - WINDOW: i]\n",
    "        condition1 = not any(0.5 * s[0] > [s[j+1]  for j in range(len(s) - 1) ])  # if any of the following values is smaller than 50% of start value, we declare no point was found\n",
    "        condition1 = True\n",
    "        if condition1 and [change > MAX_INCREASE for change in changes[i - WINDOW: i]].count(True) >= SLACK_RATE_INCREASE: \n",
    "            return i - WINDOW\n",
    "\n",
    "        # check for decreasing behaviour:\n",
    "        if condition1 and [change > MIN_DECREASE for change in changes[i - WINDOW: i]].count(True) >= SLACK_RATE_DECREASE:\n",
    "            return i\n",
    "\n",
    "    return float(\"inf\")  # No stabilization point found\n"
   ]
  }
 ],
 "metadata": {
  "kernelspec": {
   "display_name": "Python 3 (ipykernel)",
   "language": "python",
   "name": "python3"
  },
  "language_info": {
   "codemirror_mode": {
    "name": "ipython",
    "version": 3
   },
   "file_extension": ".py",
   "mimetype": "text/x-python",
   "name": "python",
   "nbconvert_exporter": "python",
   "pygments_lexer": "ipython3",
   "version": "3.11.5"
  }
 },
 "nbformat": 4,
 "nbformat_minor": 5
}
